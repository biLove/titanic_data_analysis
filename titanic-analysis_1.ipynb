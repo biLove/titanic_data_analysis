{
 "cells": [
  {
   "cell_type": "markdown",
   "metadata": {},
   "source": [
    "# 1、数据集选择\n",
    "选择[**泰坦尼克号数据**](https://d17h27t6h515a5.cloudfront.net/topher/2016/December/584bcec3_titanic-data/titanic-data.csv)作为数据集研究，该数据取自于泰坦尼克号2224名乘客中的891名乘客的数据。\n",
    "\n",
    "## 1.1 该数据集包含字段如下：\n",
    "\n",
    "\n",
    "\n",
    "字段 | 定义 | Key\n",
    "------------ | ------------- | ------------\n",
    "Survived | 是否生还  | 0 = No, 1 = Yes\n",
    "Pclass | 票的类型  | 1 = 1st, 2 = 2nd, 3 = 3rd\n",
    "Sex | 性别  | 男性 = male， 女性 = female\n",
    "Age | 截止到统计时间的年龄  | \n",
    "SibSp | 船上兄弟姐妹的个数  | \n",
    "Parch | 船上父母和孩子的个数  | \n",
    "Ticket | 票编号  | \n",
    "Fare | 客运票价  | \n",
    "Cabin | 船舱编号  | \n",
    "Embarked | 出发港口  | \n",
    "\n",
    "\n",
    "\n",
    "## 1.2 感兴趣的问题如下:\n",
    "一. 船上的人生还率与哪些因素有关？\n",
    "\n",
    "1. 与票的类型是否有关？\n",
    "2. 与性别是否有关？\n",
    "3. 与年龄是否有关？\n",
    "4. 与船上兄弟姐妹的个数是否有关？\n",
    "5. 与船上父母子女的个数是否有关？\n",
    "6. 与出发港口是否有关？\n",
    "\n",
    "\n",
    "二. 哪些因素会让生化能力更高？"
   ]
  },
  {
   "cell_type": "markdown",
   "metadata": {},
   "source": [
    "# 2、数据加工与分析"
   ]
  },
  {
   "cell_type": "code",
   "execution_count": 98,
   "metadata": {
    "collapsed": false
   },
   "outputs": [
    {
     "name": "stdout",
     "output_type": "stream",
     "text": [
      "Populating the interactive namespace from numpy and matplotlib\n"
     ]
    }
   ],
   "source": [
    "import pandas as pd\n",
    "import numpy as np\n",
    "import matplotlib.pyplot as plt\n",
    "import seaborn as sns\n",
    "%pylab inline"
   ]
  },
  {
   "cell_type": "code",
   "execution_count": 99,
   "metadata": {
    "collapsed": true
   },
   "outputs": [],
   "source": [
    "titanic_data = pd.read_csv('titanic-data.csv')"
   ]
  },
  {
   "cell_type": "code",
   "execution_count": 100,
   "metadata": {
    "collapsed": false
   },
   "outputs": [
    {
     "data": {
      "text/html": [
       "<div>\n",
       "<table border=\"1\" class=\"dataframe\">\n",
       "  <thead>\n",
       "    <tr style=\"text-align: right;\">\n",
       "      <th></th>\n",
       "      <th>PassengerId</th>\n",
       "      <th>Survived</th>\n",
       "      <th>Pclass</th>\n",
       "      <th>Name</th>\n",
       "      <th>Sex</th>\n",
       "      <th>Age</th>\n",
       "      <th>SibSp</th>\n",
       "      <th>Parch</th>\n",
       "      <th>Ticket</th>\n",
       "      <th>Fare</th>\n",
       "      <th>Cabin</th>\n",
       "      <th>Embarked</th>\n",
       "    </tr>\n",
       "  </thead>\n",
       "  <tbody>\n",
       "    <tr>\n",
       "      <th>0</th>\n",
       "      <td>1</td>\n",
       "      <td>0</td>\n",
       "      <td>3</td>\n",
       "      <td>Braund, Mr. Owen Harris</td>\n",
       "      <td>male</td>\n",
       "      <td>22.0</td>\n",
       "      <td>1</td>\n",
       "      <td>0</td>\n",
       "      <td>A/5 21171</td>\n",
       "      <td>7.2500</td>\n",
       "      <td>NaN</td>\n",
       "      <td>S</td>\n",
       "    </tr>\n",
       "    <tr>\n",
       "      <th>1</th>\n",
       "      <td>2</td>\n",
       "      <td>1</td>\n",
       "      <td>1</td>\n",
       "      <td>Cumings, Mrs. John Bradley (Florence Briggs Th...</td>\n",
       "      <td>female</td>\n",
       "      <td>38.0</td>\n",
       "      <td>1</td>\n",
       "      <td>0</td>\n",
       "      <td>PC 17599</td>\n",
       "      <td>71.2833</td>\n",
       "      <td>C85</td>\n",
       "      <td>C</td>\n",
       "    </tr>\n",
       "    <tr>\n",
       "      <th>2</th>\n",
       "      <td>3</td>\n",
       "      <td>1</td>\n",
       "      <td>3</td>\n",
       "      <td>Heikkinen, Miss. Laina</td>\n",
       "      <td>female</td>\n",
       "      <td>26.0</td>\n",
       "      <td>0</td>\n",
       "      <td>0</td>\n",
       "      <td>STON/O2. 3101282</td>\n",
       "      <td>7.9250</td>\n",
       "      <td>NaN</td>\n",
       "      <td>S</td>\n",
       "    </tr>\n",
       "    <tr>\n",
       "      <th>3</th>\n",
       "      <td>4</td>\n",
       "      <td>1</td>\n",
       "      <td>1</td>\n",
       "      <td>Futrelle, Mrs. Jacques Heath (Lily May Peel)</td>\n",
       "      <td>female</td>\n",
       "      <td>35.0</td>\n",
       "      <td>1</td>\n",
       "      <td>0</td>\n",
       "      <td>113803</td>\n",
       "      <td>53.1000</td>\n",
       "      <td>C123</td>\n",
       "      <td>S</td>\n",
       "    </tr>\n",
       "    <tr>\n",
       "      <th>4</th>\n",
       "      <td>5</td>\n",
       "      <td>0</td>\n",
       "      <td>3</td>\n",
       "      <td>Allen, Mr. William Henry</td>\n",
       "      <td>male</td>\n",
       "      <td>35.0</td>\n",
       "      <td>0</td>\n",
       "      <td>0</td>\n",
       "      <td>373450</td>\n",
       "      <td>8.0500</td>\n",
       "      <td>NaN</td>\n",
       "      <td>S</td>\n",
       "    </tr>\n",
       "  </tbody>\n",
       "</table>\n",
       "</div>"
      ],
      "text/plain": [
       "   PassengerId  Survived  Pclass  \\\n",
       "0            1         0       3   \n",
       "1            2         1       1   \n",
       "2            3         1       3   \n",
       "3            4         1       1   \n",
       "4            5         0       3   \n",
       "\n",
       "                                                Name     Sex   Age  SibSp  \\\n",
       "0                            Braund, Mr. Owen Harris    male  22.0      1   \n",
       "1  Cumings, Mrs. John Bradley (Florence Briggs Th...  female  38.0      1   \n",
       "2                             Heikkinen, Miss. Laina  female  26.0      0   \n",
       "3       Futrelle, Mrs. Jacques Heath (Lily May Peel)  female  35.0      1   \n",
       "4                           Allen, Mr. William Henry    male  35.0      0   \n",
       "\n",
       "   Parch            Ticket     Fare Cabin Embarked  \n",
       "0      0         A/5 21171   7.2500   NaN        S  \n",
       "1      0          PC 17599  71.2833   C85        C  \n",
       "2      0  STON/O2. 3101282   7.9250   NaN        S  \n",
       "3      0            113803  53.1000  C123        S  \n",
       "4      0            373450   8.0500   NaN        S  "
      ]
     },
     "execution_count": 100,
     "metadata": {},
     "output_type": "execute_result"
    }
   ],
   "source": [
    "titanic_data.head()"
   ]
  },
  {
   "cell_type": "markdown",
   "metadata": {},
   "source": [
    "## 2.1 泰坦尼克号的样本生还率"
   ]
  },
  {
   "cell_type": "code",
   "execution_count": 143,
   "metadata": {
    "collapsed": false
   },
   "outputs": [
    {
     "name": "stdout",
     "output_type": "stream",
     "text": [
      "0.383838383838\n"
     ]
    }
   ],
   "source": [
    "# 样本的生还率计算如下：\n",
    "overall_survival_rate = titanic_data['Survived'].mean()\n",
    "print overall_survival_rate"
   ]
  },
  {
   "cell_type": "markdown",
   "metadata": {},
   "source": [
    "由于样本量为891，大于30，根据中心极限定理，当样本量大于30时，样本均值分布服从正态分布。\n",
    "\n",
    "由于样本量足够大，我们有理由相信，整体的生还率为38.39%"
   ]
  },
  {
   "cell_type": "markdown",
   "metadata": {},
   "source": [
    "## 2.2 生还率与票的类型的关系\n",
    "将样本中所有人按照“是否生还”进行分组”，计算每一组的人数如下："
   ]
  },
  {
   "cell_type": "code",
   "execution_count": 104,
   "metadata": {
    "collapsed": false
   },
   "outputs": [
    {
     "data": {
      "text/html": [
       "<div>\n",
       "<table border=\"1\" class=\"dataframe\">\n",
       "  <thead>\n",
       "    <tr style=\"text-align: right;\">\n",
       "      <th></th>\n",
       "      <th>PassengerId</th>\n",
       "      <th>Pclass</th>\n",
       "      <th>Name</th>\n",
       "      <th>Sex</th>\n",
       "      <th>Age</th>\n",
       "      <th>SibSp</th>\n",
       "      <th>Parch</th>\n",
       "      <th>Ticket</th>\n",
       "      <th>Fare</th>\n",
       "      <th>Cabin</th>\n",
       "      <th>Embarked</th>\n",
       "    </tr>\n",
       "    <tr>\n",
       "      <th>Survived</th>\n",
       "      <th></th>\n",
       "      <th></th>\n",
       "      <th></th>\n",
       "      <th></th>\n",
       "      <th></th>\n",
       "      <th></th>\n",
       "      <th></th>\n",
       "      <th></th>\n",
       "      <th></th>\n",
       "      <th></th>\n",
       "      <th></th>\n",
       "    </tr>\n",
       "  </thead>\n",
       "  <tbody>\n",
       "    <tr>\n",
       "      <th>0</th>\n",
       "      <td>549</td>\n",
       "      <td>549</td>\n",
       "      <td>549</td>\n",
       "      <td>549</td>\n",
       "      <td>424</td>\n",
       "      <td>549</td>\n",
       "      <td>549</td>\n",
       "      <td>549</td>\n",
       "      <td>549</td>\n",
       "      <td>68</td>\n",
       "      <td>549</td>\n",
       "    </tr>\n",
       "    <tr>\n",
       "      <th>1</th>\n",
       "      <td>342</td>\n",
       "      <td>342</td>\n",
       "      <td>342</td>\n",
       "      <td>342</td>\n",
       "      <td>290</td>\n",
       "      <td>342</td>\n",
       "      <td>342</td>\n",
       "      <td>342</td>\n",
       "      <td>342</td>\n",
       "      <td>136</td>\n",
       "      <td>340</td>\n",
       "    </tr>\n",
       "  </tbody>\n",
       "</table>\n",
       "</div>"
      ],
      "text/plain": [
       "          PassengerId  Pclass  Name  Sex  Age  SibSp  Parch  Ticket  Fare  \\\n",
       "Survived                                                                    \n",
       "0                 549     549   549  549  424    549    549     549   549   \n",
       "1                 342     342   342  342  290    342    342     342   342   \n",
       "\n",
       "          Cabin  Embarked  \n",
       "Survived                   \n",
       "0            68       549  \n",
       "1           136       340  "
      ]
     },
     "execution_count": 104,
     "metadata": {},
     "output_type": "execute_result"
    }
   ],
   "source": [
    "# 按照“是否生还”进行分组\n",
    "titanic_data.groupby(['Survived']).count()"
   ]
  },
  {
   "cell_type": "code",
   "execution_count": 144,
   "metadata": {
    "collapsed": false
   },
   "outputs": [
    {
     "name": "stdout",
     "output_type": "stream",
     "text": [
      "pclass_survival_number:   Pclass  Survived\n",
      "0       1       216\n",
      "1       2       184\n",
      "2       3       491\n"
     ]
    }
   ],
   "source": [
    "#按船票类型分组，每组人数如下：\n",
    "pclass_survival_number = titanic_data.groupby(['Pclass'],as_index=False)['Survived'].count()\n",
    "print 'pclass_survival_number:' + `pclass_survival_number`"
   ]
  },
  {
   "cell_type": "markdown",
   "metadata": {},
   "source": [
    "由于分组后，样本量均大于30，故用分组后的样本估算每个组的生还率是可信的。"
   ]
  },
  {
   "cell_type": "code",
   "execution_count": 147,
   "metadata": {
    "collapsed": false
   },
   "outputs": [
    {
     "data": {
      "text/plain": [
       "([<matplotlib.patches.Wedge at 0x1192c1dd0>,\n",
       "  <matplotlib.patches.Wedge at 0x1192cfbd0>,\n",
       "  <matplotlib.patches.Wedge at 0x1192da9d0>],\n",
       " [<matplotlib.text.Text at 0x1192cf3d0>,\n",
       "  <matplotlib.text.Text at 0x1192da210>,\n",
       "  <matplotlib.text.Text at 0x1192dafd0>],\n",
       " [<matplotlib.text.Text at 0x1192cf790>,\n",
       "  <matplotlib.text.Text at 0x1192da590>,\n",
       "  <matplotlib.text.Text at 0x1192e7390>])"
      ]
     },
     "execution_count": 147,
     "metadata": {},
     "output_type": "execute_result"
    },
    {
     "data": {
      "image/png": "[encoded data removed]",
      "text/plain": [
       "<matplotlib.figure.Figure at 0x118e14fd0>"
      ]
     },
     "metadata": {},
     "output_type": "display_data"
    }
   ],
   "source": [
    "# 按船票类型分组，人数分布图\n",
    "plt.pie(pclass_survival_number['Survived'], labels = pclass_survival_number['Pclass'], autopct='%.0f%%')"
   ]
  },
  {
   "cell_type": "code",
   "execution_count": 148,
   "metadata": {
    "collapsed": false
   },
   "outputs": [
    {
     "name": "stdout",
     "output_type": "stream",
     "text": [
      "pclass_survival_rate:Pclass\n",
      "1    0.629630\n",
      "2    0.472826\n",
      "3    0.242363\n",
      "Name: Survived, dtype: float64\n"
     ]
    }
   ],
   "source": [
    "#按船票类型分组，生还率如下：\n",
    "pclass_survival_rate = titanic_data.groupby(['Pclass'])['Survived'].mean()\n",
    "print 'pclass_survival_rate:' + `pclass_survival_rate`"
   ]
  },
  {
   "cell_type": "code",
   "execution_count": 149,
   "metadata": {
    "collapsed": false
   },
   "outputs": [
    {
     "data": {
      "text/plain": [
       "<matplotlib.text.Text at 0x1193b79d0>"
      ]
     },
     "execution_count": 149,
     "metadata": {},
     "output_type": "execute_result"
    },
    {
     "data": {
      "image/png": "[encoded data removed]",
      "text/plain": [
       "<matplotlib.figure.Figure at 0x1191bc210>"
      ]
     },
     "metadata": {},
     "output_type": "display_data"
    }
   ],
   "source": [
    "#做出三种船票等级下，生存率的柱状图如下\n",
    "\n",
    "pclass_survival_rate.plot(kind='bar')\n",
    "plt.plot([-1,4], [overall_survival_rate,overall_survival_rate], 'k-',color='red')\n",
    "plt.title('survival_rate of diffrent Pclass')"
   ]
  },
  {
   "cell_type": "markdown",
   "metadata": {},
   "source": [
    "从图中可以看出，Pclass=1时，生还率最高；Pclass=2时，生还率其次；Pclass=3时，生还率低于平均水平。\n",
    "\n",
    "由于样本中，三种船票分别是一等船票216人，占比24%；二等船票184人，占比21%；三等船票491人，占比55%\n",
    "\n",
    "样本进行分组后，每组的样本量均超过30人，故而用样本结论估算整体结论可信。"
   ]
  },
  {
   "cell_type": "markdown",
   "metadata": {
    "collapsed": true
   },
   "source": [
    "\n",
    "\n",
    "\n",
    "结论：\n",
    "\n",
    "**不同种类的Pclass对生还率影响很大，整体生还率高低为 “Pclass=1” > “Pclass=3” > “Pclass=3”**"
   ]
  },
  {
   "cell_type": "markdown",
   "metadata": {},
   "source": [
    "## 2.3 生还率与性别的关系"
   ]
  },
  {
   "cell_type": "code",
   "execution_count": 108,
   "metadata": {
    "collapsed": false
   },
   "outputs": [
    {
     "name": "stdout",
     "output_type": "stream",
     "text": [
      "      Sex  Survived\n",
      "0  female       314\n",
      "1    male       577\n"
     ]
    }
   ],
   "source": [
    "# 按不同性别分组后，每组人数分布如下：\n",
    "sex_survival_number = titanic_data.groupby(['Sex'],as_index=False)['Survived'].count()\n",
    "print sex_survival_number"
   ]
  },
  {
   "cell_type": "code",
   "execution_count": 109,
   "metadata": {
    "collapsed": false
   },
   "outputs": [
    {
     "data": {
      "text/plain": [
       "([<matplotlib.patches.Wedge at 0x1182539d0>,\n",
       "  <matplotlib.patches.Wedge at 0x118261790>],\n",
       " [<matplotlib.text.Text at 0x118253f90>,\n",
       "  <matplotlib.text.Text at 0x118261d90>],\n",
       " [<matplotlib.text.Text at 0x118261350>,\n",
       "  <matplotlib.text.Text at 0x11826d150>])"
      ]
     },
     "execution_count": 109,
     "metadata": {},
     "output_type": "execute_result"
    },
    {
     "data": {
      "image/png": "[encoded data removed]",
      "text/plain": [
       "<matplotlib.figure.Figure at 0x117fe6d90>"
      ]
     },
     "metadata": {},
     "output_type": "display_data"
    }
   ],
   "source": [
    "# 不同性别，人数分布饼状图：\n",
    "plt.pie(sex_survival_number['Survived'], labels = sex_survival_number['Sex'], autopct='%.0f%%')"
   ]
  },
  {
   "cell_type": "code",
   "execution_count": 110,
   "metadata": {
    "collapsed": false
   },
   "outputs": [
    {
     "name": "stdout",
     "output_type": "stream",
     "text": [
      "Sex\n",
      "female    0.742038\n",
      "male      0.188908\n",
      "Name: Survived, dtype: float64\n"
     ]
    }
   ],
   "source": [
    "#按性别分组后，每组的生存率\n",
    "sex_survival_rate = titanic_data.groupby(['Sex'])['Survived'].mean()\n",
    "print sex_survival_rate"
   ]
  },
  {
   "cell_type": "code",
   "execution_count": 111,
   "metadata": {
    "collapsed": false
   },
   "outputs": [
    {
     "data": {
      "text/plain": [
       "<matplotlib.text.Text at 0x1182c28d0>"
      ]
     },
     "execution_count": 111,
     "metadata": {},
     "output_type": "execute_result"
    },
    {
     "data": {
      "image/png": "[encoded data removed]",
      "text/plain": [
       "<matplotlib.figure.Figure at 0x1181691d0>"
      ]
     },
     "metadata": {},
     "output_type": "display_data"
    }
   ],
   "source": [
    "#不同性别的生还率分布柱状图如下\n",
    "\n",
    "sex_survival_rate.plot(kind='bar')\n",
    "plt.plot([-1,4], [overall_survival_rate,overall_survival_rate], 'k-',color='red')\n",
    "plt.title('survival_rate of diffrent sex')"
   ]
  },
  {
   "cell_type": "markdown",
   "metadata": {},
   "source": [
    "结论：\n",
    "\n",
    "**女性的生存率远高于男性**"
   ]
  },
  {
   "cell_type": "markdown",
   "metadata": {},
   "source": [
    "## 2.4 生还率与年龄的关系"
   ]
  },
  {
   "cell_type": "code",
   "execution_count": 112,
   "metadata": {
    "collapsed": false
   },
   "outputs": [
    {
     "data": {
      "text/plain": [
       "count    714.000000\n",
       "mean      29.699118\n",
       "std       14.526497\n",
       "min        0.420000\n",
       "25%       20.125000\n",
       "50%       28.000000\n",
       "75%       38.000000\n",
       "max       80.000000\n",
       "Name: Age, dtype: float64"
      ]
     },
     "execution_count": 112,
     "metadata": {},
     "output_type": "execute_result"
    }
   ],
   "source": [
    "# 找出年龄的统计数据\n",
    "titanic_data['Age'].describe()"
   ]
  },
  {
   "cell_type": "code",
   "execution_count": 113,
   "metadata": {
    "collapsed": false
   },
   "outputs": [],
   "source": [
    "# 由于年龄区间是0~80，将年龄按照10岁一个阶段，分成8个组，如下：\n",
    "\n",
    "bins = np.arange(0,81,10)\n",
    "titanic_data['Age_group'] = pd.cut(titanic_data['Age'], bins)"
   ]
  },
  {
   "cell_type": "code",
   "execution_count": 114,
   "metadata": {
    "collapsed": false
   },
   "outputs": [
    {
     "data": {
      "text/html": [
       "<div>\n",
       "<table border=\"1\" class=\"dataframe\">\n",
       "  <thead>\n",
       "    <tr style=\"text-align: right;\">\n",
       "      <th></th>\n",
       "      <th>PassengerId</th>\n",
       "      <th>Survived</th>\n",
       "      <th>Pclass</th>\n",
       "      <th>Name</th>\n",
       "      <th>Sex</th>\n",
       "      <th>Age</th>\n",
       "      <th>SibSp</th>\n",
       "      <th>Parch</th>\n",
       "      <th>Ticket</th>\n",
       "      <th>Fare</th>\n",
       "      <th>Cabin</th>\n",
       "      <th>Embarked</th>\n",
       "      <th>Age_group</th>\n",
       "    </tr>\n",
       "  </thead>\n",
       "  <tbody>\n",
       "    <tr>\n",
       "      <th>0</th>\n",
       "      <td>1</td>\n",
       "      <td>0</td>\n",
       "      <td>3</td>\n",
       "      <td>Braund, Mr. Owen Harris</td>\n",
       "      <td>male</td>\n",
       "      <td>22.0</td>\n",
       "      <td>1</td>\n",
       "      <td>0</td>\n",
       "      <td>A/5 21171</td>\n",
       "      <td>7.2500</td>\n",
       "      <td>NaN</td>\n",
       "      <td>S</td>\n",
       "      <td>(20, 30]</td>\n",
       "    </tr>\n",
       "    <tr>\n",
       "      <th>1</th>\n",
       "      <td>2</td>\n",
       "      <td>1</td>\n",
       "      <td>1</td>\n",
       "      <td>Cumings, Mrs. John Bradley (Florence Briggs Th...</td>\n",
       "      <td>female</td>\n",
       "      <td>38.0</td>\n",
       "      <td>1</td>\n",
       "      <td>0</td>\n",
       "      <td>PC 17599</td>\n",
       "      <td>71.2833</td>\n",
       "      <td>C85</td>\n",
       "      <td>C</td>\n",
       "      <td>(30, 40]</td>\n",
       "    </tr>\n",
       "    <tr>\n",
       "      <th>2</th>\n",
       "      <td>3</td>\n",
       "      <td>1</td>\n",
       "      <td>3</td>\n",
       "      <td>Heikkinen, Miss. Laina</td>\n",
       "      <td>female</td>\n",
       "      <td>26.0</td>\n",
       "      <td>0</td>\n",
       "      <td>0</td>\n",
       "      <td>STON/O2. 3101282</td>\n",
       "      <td>7.9250</td>\n",
       "      <td>NaN</td>\n",
       "      <td>S</td>\n",
       "      <td>(20, 30]</td>\n",
       "    </tr>\n",
       "    <tr>\n",
       "      <th>3</th>\n",
       "      <td>4</td>\n",
       "      <td>1</td>\n",
       "      <td>1</td>\n",
       "      <td>Futrelle, Mrs. Jacques Heath (Lily May Peel)</td>\n",
       "      <td>female</td>\n",
       "      <td>35.0</td>\n",
       "      <td>1</td>\n",
       "      <td>0</td>\n",
       "      <td>113803</td>\n",
       "      <td>53.1000</td>\n",
       "      <td>C123</td>\n",
       "      <td>S</td>\n",
       "      <td>(30, 40]</td>\n",
       "    </tr>\n",
       "    <tr>\n",
       "      <th>4</th>\n",
       "      <td>5</td>\n",
       "      <td>0</td>\n",
       "      <td>3</td>\n",
       "      <td>Allen, Mr. William Henry</td>\n",
       "      <td>male</td>\n",
       "      <td>35.0</td>\n",
       "      <td>0</td>\n",
       "      <td>0</td>\n",
       "      <td>373450</td>\n",
       "      <td>8.0500</td>\n",
       "      <td>NaN</td>\n",
       "      <td>S</td>\n",
       "      <td>(30, 40]</td>\n",
       "    </tr>\n",
       "  </tbody>\n",
       "</table>\n",
       "</div>"
      ],
      "text/plain": [
       "   PassengerId  Survived  Pclass  \\\n",
       "0            1         0       3   \n",
       "1            2         1       1   \n",
       "2            3         1       3   \n",
       "3            4         1       1   \n",
       "4            5         0       3   \n",
       "\n",
       "                                                Name     Sex   Age  SibSp  \\\n",
       "0                            Braund, Mr. Owen Harris    male  22.0      1   \n",
       "1  Cumings, Mrs. John Bradley (Florence Briggs Th...  female  38.0      1   \n",
       "2                             Heikkinen, Miss. Laina  female  26.0      0   \n",
       "3       Futrelle, Mrs. Jacques Heath (Lily May Peel)  female  35.0      1   \n",
       "4                           Allen, Mr. William Henry    male  35.0      0   \n",
       "\n",
       "   Parch            Ticket     Fare Cabin Embarked Age_group  \n",
       "0      0         A/5 21171   7.2500   NaN        S  (20, 30]  \n",
       "1      0          PC 17599  71.2833   C85        C  (30, 40]  \n",
       "2      0  STON/O2. 3101282   7.9250   NaN        S  (20, 30]  \n",
       "3      0            113803  53.1000  C123        S  (30, 40]  \n",
       "4      0            373450   8.0500   NaN        S  (30, 40]  "
      ]
     },
     "execution_count": 114,
     "metadata": {},
     "output_type": "execute_result"
    }
   ],
   "source": [
    "titanic_data.head()"
   ]
  },
  {
   "cell_type": "code",
   "execution_count": 115,
   "metadata": {
    "collapsed": false
   },
   "outputs": [
    {
     "data": {
      "text/html": [
       "<div>\n",
       "<table border=\"1\" class=\"dataframe\">\n",
       "  <thead>\n",
       "    <tr style=\"text-align: right;\">\n",
       "      <th></th>\n",
       "      <th>Age_group</th>\n",
       "      <th>Survived</th>\n",
       "    </tr>\n",
       "  </thead>\n",
       "  <tbody>\n",
       "    <tr>\n",
       "      <th>0</th>\n",
       "      <td>(0, 10]</td>\n",
       "      <td>64</td>\n",
       "    </tr>\n",
       "    <tr>\n",
       "      <th>1</th>\n",
       "      <td>(10, 20]</td>\n",
       "      <td>115</td>\n",
       "    </tr>\n",
       "    <tr>\n",
       "      <th>2</th>\n",
       "      <td>(20, 30]</td>\n",
       "      <td>230</td>\n",
       "    </tr>\n",
       "    <tr>\n",
       "      <th>3</th>\n",
       "      <td>(30, 40]</td>\n",
       "      <td>155</td>\n",
       "    </tr>\n",
       "    <tr>\n",
       "      <th>4</th>\n",
       "      <td>(40, 50]</td>\n",
       "      <td>86</td>\n",
       "    </tr>\n",
       "    <tr>\n",
       "      <th>5</th>\n",
       "      <td>(50, 60]</td>\n",
       "      <td>42</td>\n",
       "    </tr>\n",
       "    <tr>\n",
       "      <th>6</th>\n",
       "      <td>(60, 70]</td>\n",
       "      <td>17</td>\n",
       "    </tr>\n",
       "    <tr>\n",
       "      <th>7</th>\n",
       "      <td>(70, 80]</td>\n",
       "      <td>5</td>\n",
       "    </tr>\n",
       "  </tbody>\n",
       "</table>\n",
       "</div>"
      ],
      "text/plain": [
       "  Age_group  Survived\n",
       "0   (0, 10]        64\n",
       "1  (10, 20]       115\n",
       "2  (20, 30]       230\n",
       "3  (30, 40]       155\n",
       "4  (40, 50]        86\n",
       "5  (50, 60]        42\n",
       "6  (60, 70]        17\n",
       "7  (70, 80]         5"
      ]
     },
     "execution_count": 115,
     "metadata": {},
     "output_type": "execute_result"
    }
   ],
   "source": [
    "#按年龄分组，每组的人数如下：\n",
    "by_Age_num = titanic_data.groupby('Age_group',as_index=False)['Survived'].count()\n",
    "by_Age_num"
   ]
  },
  {
   "cell_type": "code",
   "execution_count": 116,
   "metadata": {
    "collapsed": false
   },
   "outputs": [
    {
     "data": {
      "text/plain": [
       "([<matplotlib.patches.Wedge at 0x118415710>,\n",
       "  <matplotlib.patches.Wedge at 0x1184223d0>,\n",
       "  <matplotlib.patches.Wedge at 0x11842f1d0>,\n",
       "  <matplotlib.patches.Wedge at 0x11842ff90>,\n",
       "  <matplotlib.patches.Wedge at 0x118523d90>,\n",
       "  <matplotlib.patches.Wedge at 0x11852eb90>,\n",
       "  <matplotlib.patches.Wedge at 0x11853c990>,\n",
       "  <matplotlib.patches.Wedge at 0x118548790>],\n",
       " [<matplotlib.text.Text at 0x118415b90>,\n",
       "  <matplotlib.text.Text at 0x1184229d0>,\n",
       "  <matplotlib.text.Text at 0x11842f7d0>,\n",
       "  <matplotlib.text.Text at 0x1185235d0>,\n",
       "  <matplotlib.text.Text at 0x11852e3d0>,\n",
       "  <matplotlib.text.Text at 0x11853c1d0>,\n",
       "  <matplotlib.text.Text at 0x11853cf90>,\n",
       "  <matplotlib.text.Text at 0x118548d90>],\n",
       " [<matplotlib.text.Text at 0x118415f50>,\n",
       "  <matplotlib.text.Text at 0x118422d50>,\n",
       "  <matplotlib.text.Text at 0x11842fb50>,\n",
       "  <matplotlib.text.Text at 0x118523950>,\n",
       "  <matplotlib.text.Text at 0x11852e750>,\n",
       "  <matplotlib.text.Text at 0x11853c550>,\n",
       "  <matplotlib.text.Text at 0x118548350>,\n",
       "  <matplotlib.text.Text at 0x118557150>])"
      ]
     },
     "execution_count": 116,
     "metadata": {},
     "output_type": "execute_result"
    },
    {
     "data": {
      "image/png": "[encoded data removed]",
      "text/plain": [
       "<matplotlib.figure.Figure at 0x1182b7e10>"
      ]
     },
     "metadata": {},
     "output_type": "display_data"
    }
   ],
   "source": [
    "#按年龄分布的饼状图如下：\n",
    "\n",
    "plt.pie(by_Age_num['Survived'], labels = by_Age_num['Age_group'], autopct='%.0f%%')"
   ]
  },
  {
   "cell_type": "markdown",
   "metadata": {},
   "source": [
    "观察表中每组的人数，前6组人数均大于30人，用来估算整体的生还率可信度较高，有争议的是(60,70],(70,80]这两组数据，由于样本量太少，可能使生还率计算有一定的误差。"
   ]
  },
  {
   "cell_type": "code",
   "execution_count": 117,
   "metadata": {
    "collapsed": false
   },
   "outputs": [
    {
     "name": "stdout",
     "output_type": "stream",
     "text": [
      "Age_group\n",
      "(0, 10]     0.593750\n",
      "(10, 20]    0.382609\n",
      "(20, 30]    0.365217\n",
      "(30, 40]    0.445161\n",
      "(40, 50]    0.383721\n",
      "(50, 60]    0.404762\n",
      "(60, 70]    0.235294\n",
      "(70, 80]    0.200000\n",
      "Name: Survived, dtype: float64\n"
     ]
    }
   ],
   "source": [
    "#计算各组的生还率如下：\n",
    "by_Age = titanic_data.groupby('Age_group')['Survived'].mean()\n",
    "print by_Age"
   ]
  },
  {
   "cell_type": "markdown",
   "metadata": {},
   "source": [
    "从上面的结果可以看出，年龄已经按指定的方式分好组了，且每一组的生还率也计算出来了。"
   ]
  },
  {
   "cell_type": "code",
   "execution_count": 118,
   "metadata": {
    "collapsed": false
   },
   "outputs": [
    {
     "data": {
      "text/plain": [
       "<matplotlib.text.Text at 0x11860de90>"
      ]
     },
     "execution_count": 118,
     "metadata": {},
     "output_type": "execute_result"
    },
    {
     "data": {
      "image/png": "[encoded data removed]",
      "text/plain": [
       "<matplotlib.figure.Figure at 0x117ffb250>"
      ]
     },
     "metadata": {},
     "output_type": "display_data"
    }
   ],
   "source": [
    "# 用柱状图表示年龄组与生还率的关系如下\n",
    "\n",
    "by_Age.plot(kind='bar')\n",
    "plt.plot([-1,10], [overall_survival_rate,overall_survival_rate], 'k-',color='red')\n",
    "plt.title('survival_rate of diffrent age')"
   ]
  },
  {
   "cell_type": "markdown",
   "metadata": {},
   "source": [
    "结论：\n",
    "\n",
    "**年龄大小与生还率整体呈下降趋势，(60,70],(70,80]这两组数据由于样本量太少，可能存在误差**"
   ]
  },
  {
   "cell_type": "markdown",
   "metadata": {},
   "source": [
    "## 2.5 生还率与船上兄弟姐妹个数的关系"
   ]
  },
  {
   "cell_type": "code",
   "execution_count": 127,
   "metadata": {
    "collapsed": false
   },
   "outputs": [
    {
     "name": "stdout",
     "output_type": "stream",
     "text": [
      "   SibSp  Survived\n",
      "0      0       608\n",
      "1      1       209\n",
      "2      2        28\n",
      "3      3        16\n",
      "4      4        18\n",
      "5      5         5\n",
      "6      8         7\n"
     ]
    }
   ],
   "source": [
    "# 按兄弟姐妹的个数进行分组，每组人数如下：\n",
    "SibSp_survival_num = titanic_data.groupby(['SibSp'],as_index=False)['Survived'].count()\n",
    "print SibSp_survival_num"
   ]
  },
  {
   "cell_type": "markdown",
   "metadata": {},
   "source": [
    "分组以后可知，当兄弟姐妹个数>2时，样本量都远小于30，故而用来估算整体生还率可能存在误差"
   ]
  },
  {
   "cell_type": "code",
   "execution_count": 150,
   "metadata": {
    "collapsed": false
   },
   "outputs": [
    {
     "name": "stdout",
     "output_type": "stream",
     "text": [
      "SibSp\n",
      "0    0.345395\n",
      "1    0.535885\n",
      "2    0.464286\n",
      "3    0.250000\n",
      "4    0.166667\n",
      "5    0.000000\n",
      "8    0.000000\n",
      "Name: Survived, dtype: float64\n"
     ]
    }
   ],
   "source": [
    "# 按兄弟姐妹的个数进行分组，计算生还率如下：\n",
    "SibSp_survival_rate = titanic_data.groupby(['SibSp'])['Survived'].mean()\n",
    "print SibSp_survival_rate"
   ]
  },
  {
   "cell_type": "code",
   "execution_count": 151,
   "metadata": {
    "collapsed": false
   },
   "outputs": [
    {
     "data": {
      "text/plain": [
       "<matplotlib.text.Text at 0x11948e5d0>"
      ]
     },
     "execution_count": 151,
     "metadata": {},
     "output_type": "execute_result"
    },
    {
     "data": {
      "image/png": "[encoded data removed]",
      "text/plain": [
       "<matplotlib.figure.Figure at 0x11942c850>"
      ]
     },
     "metadata": {},
     "output_type": "display_data"
    }
   ],
   "source": [
    "#做出相关的柱状图\n",
    "\n",
    "SibSp_survival_rate.plot(kind='bar')\n",
    "plt.plot([-1,10], [overall_survival_rate,overall_survival_rate], 'k-',color='red')\n",
    "plt.title('survival_rate of diffrent SibSp')"
   ]
  },
  {
   "cell_type": "markdown",
   "metadata": {},
   "source": [
    "结论：\n",
    "\n",
    "**有1~2个兄弟姐妹的人生还率更高，但由于兄弟姐妹数量为3，4，5，8的4个分组样本量都太小，可能造成比较大的误差，结论可信度不高**"
   ]
  },
  {
   "cell_type": "markdown",
   "metadata": {},
   "source": [
    "## 2.6 生还率与船上父母子女个数的关系"
   ]
  },
  {
   "cell_type": "code",
   "execution_count": 130,
   "metadata": {
    "collapsed": false
   },
   "outputs": [
    {
     "name": "stdout",
     "output_type": "stream",
     "text": [
      "   Parch  Survived\n",
      "0      0       678\n",
      "1      1       118\n",
      "2      2        80\n",
      "3      3         5\n",
      "4      4         4\n",
      "5      5         5\n",
      "6      6         1\n"
     ]
    }
   ],
   "source": [
    "# 按父母子女的个数进行分组，每组人数如下：\n",
    "Parch_survival_num = titanic_data.groupby(['Parch'],as_index=False)['Survived'].count()\n",
    "print Parch_survival_num"
   ]
  },
  {
   "cell_type": "code",
   "execution_count": 121,
   "metadata": {
    "collapsed": false
   },
   "outputs": [
    {
     "name": "stdout",
     "output_type": "stream",
     "text": [
      "Parch\n",
      "0    0.343658\n",
      "1    0.550847\n",
      "2    0.500000\n",
      "3    0.600000\n",
      "4    0.000000\n",
      "5    0.200000\n",
      "6    0.000000\n",
      "Name: Survived, dtype: float64\n"
     ]
    }
   ],
   "source": [
    "# 按父母子女的个数进行分组，计算生还率如下：\n",
    "Parch_survival_rate = titanic_data.groupby(['Parch'])['Survived'].mean()\n",
    "print Parch_survival_rate"
   ]
  },
  {
   "cell_type": "code",
   "execution_count": 122,
   "metadata": {
    "collapsed": false
   },
   "outputs": [
    {
     "data": {
      "text/plain": [
       "<matplotlib.text.Text at 0x118901a50>"
      ]
     },
     "execution_count": 122,
     "metadata": {},
     "output_type": "execute_result"
    },
    {
     "data": {
      "image/png": "[encoded data removed]",
      "text/plain": [
       "<matplotlib.figure.Figure at 0x117c45a10>"
      ]
     },
     "metadata": {},
     "output_type": "display_data"
    }
   ],
   "source": [
    "#做出相关的柱状图\n",
    "\n",
    "Parch_survival_rate.plot(kind='bar')\n",
    "plt.plot([-1,10], [overall_survival_rate,overall_survival_rate], 'k-',color='red')\n",
    "plt.title('survival_rate of diffrent Parch')"
   ]
  },
  {
   "cell_type": "markdown",
   "metadata": {},
   "source": [
    "结论：\n",
    "\n",
    "**有1~3个父母子女的人生还率更高，但由于父母子女数量为3，4，5，6的4个分组样本量都太少，可能造成比较大的误差，结论可信度不高**"
   ]
  },
  {
   "cell_type": "markdown",
   "metadata": {},
   "source": [
    "## 2.7 生还率与出发港口的关系"
   ]
  },
  {
   "cell_type": "code",
   "execution_count": 131,
   "metadata": {
    "collapsed": false
   },
   "outputs": [
    {
     "name": "stdout",
     "output_type": "stream",
     "text": [
      "  Embarked  Survived\n",
      "0        C       168\n",
      "1        Q        77\n",
      "2        S       644\n"
     ]
    }
   ],
   "source": [
    "# 按出发港口进行分组，每组人数如下：\n",
    "Embarked_survival_num = titanic_data.groupby(['Embarked'],as_index=False)['Survived'].count()\n",
    "print Embarked_survival_num"
   ]
  },
  {
   "cell_type": "code",
   "execution_count": 132,
   "metadata": {
    "collapsed": false
   },
   "outputs": [
    {
     "data": {
      "text/plain": [
       "([<matplotlib.patches.Wedge at 0x118d28550>,\n",
       "  <matplotlib.patches.Wedge at 0x118dd3310>,\n",
       "  <matplotlib.patches.Wedge at 0x118de0110>],\n",
       " [<matplotlib.text.Text at 0x118d28b10>,\n",
       "  <matplotlib.text.Text at 0x118dd3910>,\n",
       "  <matplotlib.text.Text at 0x118de0710>],\n",
       " [<matplotlib.text.Text at 0x118d28e90>,\n",
       "  <matplotlib.text.Text at 0x118dd3c90>,\n",
       "  <matplotlib.text.Text at 0x118de0a90>])"
      ]
     },
     "execution_count": 132,
     "metadata": {},
     "output_type": "execute_result"
    },
    {
     "data": {
      "image/png": "[encoded data removed]",
      "text/plain": [
       "<matplotlib.figure.Figure at 0x118c7b690>"
      ]
     },
     "metadata": {},
     "output_type": "display_data"
    }
   ],
   "source": [
    "# 不同港口出发，人数分布饼状图：\n",
    "plt.pie(Embarked_survival_num['Survived'], labels = Embarked_survival_num['Embarked'], autopct='%.0f%%')"
   ]
  },
  {
   "cell_type": "code",
   "execution_count": 123,
   "metadata": {
    "collapsed": false
   },
   "outputs": [
    {
     "name": "stdout",
     "output_type": "stream",
     "text": [
      "Embarked\n",
      "C    0.553571\n",
      "Q    0.389610\n",
      "S    0.336957\n",
      "Name: Survived, dtype: float64\n"
     ]
    }
   ],
   "source": [
    "# 按出发港口进行分组，计算生还率如下：\n",
    "Embarked_survival_rate = titanic_data.groupby(['Embarked'])['Survived'].mean()\n",
    "print Embarked_survival_rate"
   ]
  },
  {
   "cell_type": "code",
   "execution_count": 124,
   "metadata": {
    "collapsed": false
   },
   "outputs": [
    {
     "data": {
      "text/plain": [
       "<matplotlib.text.Text at 0x118aef250>"
      ]
     },
     "execution_count": 124,
     "metadata": {},
     "output_type": "execute_result"
    },
    {
     "data": {
      "image/png": "[encoded data removed]",
      "text/plain": [
       "<matplotlib.figure.Figure at 0x1189b5250>"
      ]
     },
     "metadata": {},
     "output_type": "display_data"
    }
   ],
   "source": [
    "#做出相关的柱状图\n",
    "\n",
    "Embarked_survival_rate.plot(kind='bar')\n",
    "plt.plot([-1,10], [overall_survival_rate,overall_survival_rate], 'k-',color='red')\n",
    "plt.title('survival_rate of diffrent Embarked')"
   ]
  },
  {
   "cell_type": "markdown",
   "metadata": {},
   "source": [
    "结论：\n",
    "\n",
    "**从不同港口出发的生还率高低如下：Cherbourg > Queenstown > Southampton**"
   ]
  },
  {
   "cell_type": "markdown",
   "metadata": {},
   "source": [
    "# 3、总结和预测\n",
    "\n",
    "## 3.1 样本数据说明\n",
    "报告中使用的数据样本量为891，不是全部乘客的数据。但样本量数据远大于30，故而可以代表整体人口。\n",
    "\n",
    "## 3.2 哪些因素与生还率有关？\n",
    "上述步骤逐一分析了各种因素与船上的人的生还率之间的关系。\n",
    "\n",
    "从以上结论可以得出可信结论如下：\n",
    "\n",
    "1. 整体的生还率为38.39%\n",
    "2. 女性的生还率为74.20%，男性的生还率为18.89%，女性的生还率远高于男性；\n",
    "3. 购买不同类型船票的人，生还率规律如下: 购买一等船票的生还率62.96% > 二等船票47.28% > 三等船票24.24%；\n",
    "4. 从不同港口出发的生还率高低如下：Cherbourg(55.36%) > Queenstown(38.96%) > Southampton(33.70%)\n",
    "\n",
    "## 3.3 哪些因素可能与生还率有关，但存在偏差\n",
    "由于部分分组样本量太少，导致结论可能有偏差的如下：\n",
    "\n",
    "1. 不同年龄的生还率呈现大致以下趋势：随着年龄增加，生还率呈下降趋势。由于(60,70],(70,80]这两组数据，样本量太少，可能导致这两组数据的估算存在偏差；\n",
    "2. 有1~2个兄弟姐妹的人，生存率远高于其他。由于兄弟姐妹人数多于2个的样本量太少，估算也可能存在偏差，不足以代表整体数据；\n",
    "3. 有1~3个父母子女的人，生存率远高于其他。由于父母子女人数多于2个的样本量太少，估算也有可能存在偏差，不足以代表整体数据；\n",
    "\n",
    "## 3.4 哪些因素可能可能影响生还率，但没有数据\n",
    "可能因素如下：\n",
    "\n",
    "1. 是否有疾病，是否会有生病的人主动放弃生还的机会\n",
    "2. 是否有文化影响，例如儿童和女士优先社会规则\n",
    "3. 受教育的水平\n",
    "4. 乘客的职业，是否有一些职业会受到特殊的保护，例如科学家之类的\n",
    "\n",
    "## 3.5 备注\n",
    "\n",
    "以上结论均来源于上述分析，结论只是暂时的，后续随着掌握的内容更多，可能会有更细致的分析。"
   ]
  },
  {
   "cell_type": "code",
   "execution_count": null,
   "metadata": {
    "collapsed": true
   },
   "outputs": [],
   "source": []
  },
  {
   "cell_type": "code",
   "execution_count": null,
   "metadata": {
    "collapsed": false
   },
   "outputs": [],
   "source": []
  }
 ],
 "metadata": {
  "kernelspec": {
   "display_name": "Python 2",
   "language": "python",
   "name": "python2"
  },
  "language_info": {
   "codemirror_mode": {
    "name": "ipython",
    "version": 2
   },
   "file_extension": ".py",
   "mimetype": "text/x-python",
   "name": "python",
   "nbconvert_exporter": "python",
   "pygments_lexer": "ipython2",
   "version": "2.7.13"
  }
 },
 "nbformat": 4,
 "nbformat_minor": 2
}
